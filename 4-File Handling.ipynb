{
 "cells": [
  {
   "cell_type": "code",
   "execution_count": null,
   "id": "979fd778",
   "metadata": {},
   "outputs": [],
   "source": [
    "## my_data.txt Content\n",
    "f = open('my_data.txt','r')\n",
    "print(f.read())\n",
    "f.close()"
   ]
  },
  {
   "cell_type": "markdown",
   "id": "4c94aa38",
   "metadata": {},
   "source": [
    "## Que1. Write a program to read first 5 characters from the (my_data.txt)."
   ]
  },
  {
   "cell_type": "code",
   "execution_count": null,
   "id": "7cb4229c",
   "metadata": {},
   "outputs": [],
   "source": [
    "f = open('my_data.txt','r')\n",
    "print(f.read(5))"
   ]
  },
  {
   "cell_type": "code",
   "execution_count": null,
   "id": "29014a6c",
   "metadata": {},
   "outputs": [],
   "source": [
    "f.close()"
   ]
  },
  {
   "cell_type": "markdown",
   "id": "91a9696a",
   "metadata": {},
   "source": [
    "## Que2. Write a program to read first line from the (my_data.txt)."
   ]
  },
  {
   "cell_type": "code",
   "execution_count": null,
   "id": "f7127301",
   "metadata": {},
   "outputs": [],
   "source": [
    "f = open('my_data.txt','r')\n",
    "print(f.readline())"
   ]
  },
  {
   "cell_type": "code",
   "execution_count": null,
   "id": "e649a2e2",
   "metadata": {},
   "outputs": [],
   "source": [
    "f.close()"
   ]
  },
  {
   "cell_type": "markdown",
   "id": "994acad8",
   "metadata": {},
   "source": [
    "## Que3. Write a program to display number of lines in a files (my_data.txt)."
   ]
  },
  {
   "cell_type": "code",
   "execution_count": null,
   "id": "1f02881f",
   "metadata": {},
   "outputs": [],
   "source": [
    "f = open(\"my_data.txt\", \"r\")\n",
    "lines = f.readlines()\n",
    "print('Number of lines in a files (my_data.txt) is',len(lines))\n",
    "f.close()"
   ]
  },
  {
   "cell_type": "markdown",
   "id": "42c7e8b5",
   "metadata": {},
   "source": [
    "## Que4. Write a program to display first line from the file (my_data.txt) using readlines()."
   ]
  },
  {
   "cell_type": "code",
   "execution_count": null,
   "id": "c9c87e7e",
   "metadata": {},
   "outputs": [],
   "source": [
    "f = open(\"my_data.txt\", \"r\")\n",
    "f.readlines(1)"
   ]
  },
  {
   "cell_type": "code",
   "execution_count": null,
   "id": "49fa9325",
   "metadata": {},
   "outputs": [],
   "source": [
    "f.close()"
   ]
  },
  {
   "cell_type": "markdown",
   "id": "fdaae53e",
   "metadata": {},
   "source": [
    "## Que5. Write a program to accept five names from the user and write in the file ‘username.txt’."
   ]
  },
  {
   "cell_type": "code",
   "execution_count": null,
   "id": "2e2c307e",
   "metadata": {},
   "outputs": [],
   "source": [
    "f = open(\"username.txt\", \"w\")\n",
    "\n",
    "for i in range(5):\n",
    "    name = input(\"Enter name: \")\n",
    "    f.write(name + \"\\n\")\n",
    "\n",
    "f = open(\"username.txt\", \"r\")\n",
    "print(f.read())\n",
    "\n",
    "f.close()"
   ]
  },
  {
   "cell_type": "markdown",
   "id": "fdd299dd",
   "metadata": {},
   "source": [
    "## Que6. Write a program to accept five languages from the user and write in the file ‘language.txt’."
   ]
  },
  {
   "cell_type": "code",
   "execution_count": null,
   "id": "ce24e69b",
   "metadata": {},
   "outputs": [],
   "source": [
    "f = open('language.txt','w')\n",
    "\n",
    "for i in range(5):\n",
    "    language = input('Enter language: ')\n",
    "    f.write(language + '\\n')\n",
    "    \n",
    "f = open('language.txt','r')\n",
    "print(f.read()) \n",
    "\n",
    "f.close()"
   ]
  },
  {
   "cell_type": "markdown",
   "id": "713b221f",
   "metadata": {},
   "source": [
    "## Que7. Write a program to accept five hobbies from the user and write in the file ‘hobbies.txt’. (each hobby should write in a separate line) without using write() function."
   ]
  },
  {
   "cell_type": "code",
   "execution_count": 1,
   "id": "2bb9bef9",
   "metadata": {},
   "outputs": [
    {
     "name": "stdout",
     "output_type": "stream",
     "text": [
      "Enter hobbies1: playing\n",
      "Enter hobbies2: cooking\n",
      "Enter hobbies3: reading\n",
      "Enter hobbies4: singing\n",
      "Enter hobbies5: dancing\n",
      "playing\n",
      "cooking\n",
      "reading\n",
      "singing\n",
      "dancing\n",
      "\n"
     ]
    }
   ],
   "source": [
    "f = open('hobbies.txt', 'w')\n",
    "hobbies1 = input('Enter hobbies1: ')\n",
    "hobbies2 = input('Enter hobbies2: ')\n",
    "hobbies3 = input('Enter hobbies3: ')\n",
    "hobbies4 = input('Enter hobbies4: ')\n",
    "hobbies5 = input('Enter hobbies5: ')\n",
    "\n",
    "f.writelines(hobbies1 + '\\n')\n",
    "f.writelines(hobbies2 + '\\n')\n",
    "f.writelines(hobbies3 + '\\n')\n",
    "f.writelines(hobbies4 + '\\n')\n",
    "f.writelines(hobbies5 + '\\n')\n",
    "\n",
    "f = open('hobbies.txt', 'r')\n",
    "print(f.read())\n",
    "\n",
    "f.close()"
   ]
  },
  {
   "cell_type": "code",
   "execution_count": 2,
   "id": "aa10ffa9",
   "metadata": {},
   "outputs": [
    {
     "name": "stdout",
     "output_type": "stream",
     "text": [
      "Enter hobby 1: playing\n",
      "Enter hobby 2: cooking\n",
      "Enter hobby 3: travinig\n",
      "Enter hobby 4: reading\n",
      "Enter hobby 5: playing\n",
      "playing\n",
      "cooking\n",
      "travinig\n",
      "reading\n",
      "playing\n",
      "\n"
     ]
    }
   ],
   "source": [
    "hobbies = []\n",
    "\n",
    "for i in range(5):\n",
    "    hobby = input(f\"Enter hobby {i+1}: \")\n",
    "    f = open('hobbies.txt', 'w')\n",
    "    hobbies.append(hobby)\n",
    "\n",
    "for hobby in hobbies:\n",
    "    f.writelines(hobby + '\\n')\n",
    "\n",
    "f = open('hobbies.txt', 'r')\n",
    "print(f.read())\n",
    "\n",
    "f.close()"
   ]
  },
  {
   "cell_type": "code",
   "execution_count": 3,
   "id": "88e45d00",
   "metadata": {},
   "outputs": [
    {
     "name": "stdout",
     "output_type": "stream",
     "text": [
      "Greating thanks for giving mi opportunity to introducing myself \n",
      "\n",
      "\n",
      "What is Java? \n",
      "Java is the high-level programming language that was developed by James Gosling in the year 1982.\n",
      "\n",
      "\n",
      "1. Why is Java a platform independent language?\n",
      "Java language was developed in such a way that it does not depend on any hardware or software due to the fact that the compiler compiles the code and\n",
      " then converts it to platform-independent byte code which can be run on multiple systems\n",
      "\n",
      "2. Why is Java not a pure object oriented language?\n",
      "Java supports primitive data types - byte, boolean, char, short, int, float, long, and double and hence it is not a pure object oriented language.\n",
      "\n",
      "3. Can java be said to be the complete object-oriented programming language?\n",
      "Is java a completely object-oriented programming language? We can say that - \n",
      "Java is not a pure object-oriented programming language, because it has direct access to primitive data types. \n",
      "And these primitive data types don't directly belong to the Integer classes.\n",
      "\n",
      "4. What do you mean by data encapsulation?\n",
      "Data Encapsulation is an Object-Oriented Programming concept of hiding the data attributes and their behaviours in a single unit.\n",
      "it is define as the wrapping up of data under a single unit.\n",
      "\n",
      "5 Tell us something about JIT compiler.\n",
      "JIT stands for Just-In-Time and it is used for improving the performance during run time.\n",
      " It does the task of compiling parts of byte code having similar functionality at the same time thereby reducing the amount of compilation time for the code to run.\n",
      "\n",
      "6.Briefly explain the concept of constructor overloading.\n",
      "Constructor overloading is the process of creating multiple constructors in the class consisting of the same name with a difference in the constructor parameters. \n",
      "Depending upon the number of parameters and their corresponding types, distinguishing of the different types of constructors is done by the compiler.\n",
      "\n",
      "8.Can the main method be Overloaded?\n",
      "Yes, It is possible to overload the main method. We can create as many overloaded main methods we want.\n",
      "However, JVM has a predefined calling method that JVM will only call the main method with the definition of - \n",
      "public static void main(string[] args).\n",
      "\n",
      "9. Comment on method overloading and overriding by citing relevant examples.\n",
      "In Java, method overloading is made possible by introducing different methods in the same class consisting of the same name.\n",
      " Still, all the functions differ in the number or type of parameters. It takes place inside a class and enhances program readability.\n",
      "\n",
      "The only difference in the return type of the method does not promote method overloading. \n",
      "The following example will furnish you with a clear picture of it.\n",
      "\n",
      "10.Method overriding :-is the concept in which two methods having the same method signature are present in two different classes in which an inheritance relationship is present.\n",
      " A particular method implementation (already present in the base class) is possible for the derived class by using method overriding.\n",
      "\n",
      "11.A single try block and multiple catch blocks can co-exist in a Java Program. Explain.\n",
      "Yes, multiple catch blocks can exist but specific approaches should come prior to the general approach because only the first catch block satisfying the catch condition is executed.\n",
      "\n",
      "12.. Explain the use of final keyword in variable, method and class.\n",
      "In Java, the final keyword is used as defining something as constant /final and represents the non-access modifier.\n",
      "\n",
      "13.final variable:\n",
      "When a variable is declared as final in Java, the value canâ€™t be modified once it has been assigned.\n",
      "If any value has not been assigned to that variable, then it can be assigned only by the constructor of the class.\n",
      "\n",
      "14.final method:\n",
      "A method declared as final cannot be overridden by its children's classes.\n",
      "A constructor cannot be marked as final because whenever a class is inherited, the constructors are not inherited.\n",
      " Hence, marking it final doesn't make sense. Java throws compilation error saying\n",
      "\n",
      "15.final class:\n",
      "No classes can be inherited from the class declared as final. But that final class can extend other classes for its usage.\n",
      "\n",
      "16.Do final, finally and finalize keywords have the same function?\n",
      "All three keywords have their own utility while programming.\n",
      "\n",
      "\n",
      "17.Final: If any restriction is required for classes, variables, or methods, the final keyword comes in handy. \n",
      "Inheritance of a final class and overriding of a final method is restricted by the use of the final keyword. \n",
      "The variable value becomes fixed after incorporating the final keyword.\n",
      "\n",
      "Final is the keyword which means if we make a variable as a final then its value cant be chnage\n",
      "\n",
      "finally is an extention of try catch block\n",
      "\n",
      "finalie is the method present inside object class\n",
      "\n",
      "Swapping of 2 nu without using third variable\n",
      "logic \n",
      "fno=fno+sno;\n",
      "sno=fno-sno;\n",
      "fno=fno-sno\n",
      "\n",
      "if we give 1 no is 10 and 2 no is 20 then \n",
      "before swapping fno=10 and sno=20\n",
      "after swapping fno=20 and sno=10\n",
      "\n",
      "\n",
      "\n",
      "\n",
      "\n",
      "\n",
      "\n",
      "\n",
      "\n",
      "\n"
     ]
    }
   ],
   "source": [
    "## article.txt Content\n",
    "\n",
    "f = open('article.txt','r')\n",
    "print(f.read())\n"
   ]
  },
  {
   "cell_type": "markdown",
   "id": "ef09fb6a",
   "metadata": {},
   "source": [
    "## Que8. Write a program to count the numbers of upper-case alphabet present in the text file “article.txt”."
   ]
  },
  {
   "cell_type": "code",
   "execution_count": 1,
   "id": "f9a18836",
   "metadata": {},
   "outputs": [
    {
     "name": "stdout",
     "output_type": "stream",
     "text": [
      "The numbers of upper-case alphabet present in the text file “article.txt” is 84\n"
     ]
    }
   ],
   "source": [
    "count = 0\n",
    "\n",
    "f = open('article.txt','r')\n",
    "read = f.read()\n",
    "\n",
    "for i in range(len(read)):\n",
    "    if read [i].isupper():\n",
    "        count+=1\n",
    "\n",
    "print('The numbers of upper-case alphabet present in the text file “article.txt” is',count)\n",
    "\n",
    "f.close()"
   ]
  },
  {
   "cell_type": "markdown",
   "id": "9993eedb",
   "metadata": {},
   "source": [
    "## Que9. Write a program to count the numbers of lower-case alphabet present in the text file “article.txt”.\n"
   ]
  },
  {
   "cell_type": "code",
   "execution_count": 2,
   "id": "660d0206",
   "metadata": {},
   "outputs": [
    {
     "name": "stdout",
     "output_type": "stream",
     "text": [
      "The numbers of lower-case alphabet present in the text file “article.txt” is 3858\n"
     ]
    }
   ],
   "source": [
    "count = 0\n",
    "\n",
    "f = open('article.txt','r')\n",
    "read = f.read()\n",
    "\n",
    "for i in range(len(read)):\n",
    "    if read [i].islower():\n",
    "        count+=1\n",
    "\n",
    "print('The numbers of lower-case alphabet present in the text file “article.txt” is',count)\n",
    "\n",
    "f.close()"
   ]
  },
  {
   "cell_type": "markdown",
   "id": "053895c3",
   "metadata": {},
   "source": [
    "## Que10. Write a program to count the words ‘to’ and ‘the’ present in the text file “article.txt”."
   ]
  },
  {
   "cell_type": "code",
   "execution_count": 3,
   "id": "04530362",
   "metadata": {},
   "outputs": [
    {
     "name": "stdout",
     "output_type": "stream",
     "text": [
      "Number of the word ‘to’ present in the text file “article.txt” is 10\n",
      "Number of the word ‘the’ present in the text file “article.txt” is 57\n"
     ]
    }
   ],
   "source": [
    "to_no = 0\n",
    "the_no = 0\n",
    "\n",
    "f = open('article.txt','r')\n",
    "list1 = f.readlines()\n",
    "\n",
    "for i in list1:\n",
    "    word = i.split()\n",
    "    for j in word:\n",
    "        if j == 'to' or j == 'To' or j == 'TO':\n",
    "            to_no+=1\n",
    "        elif j == 'the' or j =='The' or j == 'THE':\n",
    "            the_no +=1\n",
    "            \n",
    "print('Number of the word ‘to’ present in the text file “article.txt” is',to_no)\n",
    "print('Number of the word ‘the’ present in the text file “article.txt” is',the_no)\n",
    "            \n",
    "f.close()  "
   ]
  },
  {
   "cell_type": "code",
   "execution_count": null,
   "id": "6a5701f4",
   "metadata": {},
   "outputs": [],
   "source": []
  }
 ],
 "metadata": {
  "kernelspec": {
   "display_name": "Python 3 (ipykernel)",
   "language": "python",
   "name": "python3"
  },
  "language_info": {
   "codemirror_mode": {
    "name": "ipython",
    "version": 3
   },
   "file_extension": ".py",
   "mimetype": "text/x-python",
   "name": "python",
   "nbconvert_exporter": "python",
   "pygments_lexer": "ipython3",
   "version": "3.9.7"
  }
 },
 "nbformat": 4,
 "nbformat_minor": 5
}
