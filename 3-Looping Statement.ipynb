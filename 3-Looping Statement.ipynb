{
 "cells": [
  {
   "cell_type": "markdown",
   "id": "98adc0ca",
   "metadata": {},
   "source": [
    "## Que.1 Write program to print \"Hello Python\" ten times."
   ]
  },
  {
   "cell_type": "code",
   "execution_count": null,
   "id": "f6d6c765",
   "metadata": {},
   "outputs": [],
   "source": [
    "for i in range(10):\n",
    "    print(\"Hello Python\")"
   ]
  },
  {
   "cell_type": "markdown",
   "id": "140a8f2c",
   "metadata": {},
   "source": [
    "## Que .2 Write a program to print number from 1 to 10."
   ]
  },
  {
   "cell_type": "code",
   "execution_count": null,
   "id": "97674f2e",
   "metadata": {},
   "outputs": [],
   "source": [
    "for i in range(1,11):\n",
    "    print(i,end=\",\")"
   ]
  },
  {
   "cell_type": "markdown",
   "id": "f9cd23f7",
   "metadata": {},
   "source": [
    "## Que.3 write a program to print of sum of first ten number."
   ]
  },
  {
   "cell_type": "code",
   "execution_count": null,
   "id": "234b55a1",
   "metadata": {},
   "outputs": [],
   "source": [
    "sum = 0\n",
    "for i in range(1,11):\n",
    "    sum +=i\n",
    "print(\"The sum of first ten number is.=\", sum)"
   ]
  },
  {
   "cell_type": "markdown",
   "id": "6afd70a5",
   "metadata": {},
   "source": [
    "## Que.4 Write a program to print n number entered by the user"
   ]
  },
  {
   "cell_type": "code",
   "execution_count": null,
   "id": "24c42427",
   "metadata": {},
   "outputs": [],
   "source": [
    "n=int(input(\"enter the number. \"))\n",
    "for i in range(n):\n",
    "    print(i+1)"
   ]
  },
  {
   "cell_type": "markdown",
   "id": "1cd8992c",
   "metadata": {},
   "source": [
    "## Que . 5 Write a program to print sum of n numbers."
   ]
  },
  {
   "cell_type": "code",
   "execution_count": null,
   "id": "ce69e94e",
   "metadata": {},
   "outputs": [],
   "source": [
    "n=int(input('Enter the number. '))\n",
    "sum=0\n",
    "for i in range(n):\n",
    "    sum+=i\n",
    "    print(\"the Sum of given number is. \",sum)"
   ]
  },
  {
   "cell_type": "markdown",
   "id": "ef8a8b52",
   "metadata": {},
   "source": [
    "## Que .6 Write program to print table of a number"
   ]
  },
  {
   "cell_type": "code",
   "execution_count": null,
   "id": "74ebcb1a",
   "metadata": {},
   "outputs": [],
   "source": [
    "n = int(input(\"Enter the number for table.: \"))\n",
    "for i in range(1,11):\n",
    "    x=n*i\n",
    "    print(x)"
   ]
  },
  {
   "cell_type": "markdown",
   "id": "3b02e715",
   "metadata": {},
   "source": [
    "## Que. 7 Write a program to calculate the factorial of a number."
   ]
  },
  {
   "cell_type": "code",
   "execution_count": null,
   "id": "c5436783",
   "metadata": {},
   "outputs": [],
   "source": [
    "n=int(input(\"enter the number for factorial.: \"))\n",
    "factorial = 1\n",
    "for i in range(1,n+1):\n",
    "    factorial *=i\n",
    "print(\"The factorial of given number is. \",factorial)"
   ]
  },
  {
   "cell_type": "markdown",
   "id": "0ba958c1",
   "metadata": {},
   "source": [
    "## Que 8 Write a program to print even number between 1 to 100."
   ]
  },
  {
   "cell_type": "code",
   "execution_count": null,
   "id": "2def9813",
   "metadata": {},
   "outputs": [],
   "source": [
    "for i in range(1,100):\n",
    "    if i % 2 ==0:\n",
    "        print(i,end=\",\")"
   ]
  },
  {
   "cell_type": "markdown",
   "id": "afa167ca",
   "metadata": {},
   "source": [
    "## Que 9 Write a program to print odd number between 1 to 100."
   ]
  },
  {
   "cell_type": "code",
   "execution_count": null,
   "id": "d3f62e8c",
   "metadata": {},
   "outputs": [],
   "source": [
    "for i in range(1,100):\n",
    "    if i % 2 !=0:\n",
    "        print(i, end=\" \")"
   ]
  },
  {
   "cell_type": "markdown",
   "id": "0c5ba3ea",
   "metadata": {},
   "source": [
    "## Que 10 Write a program to check whether a given number is palindrome or not."
   ]
  },
  {
   "cell_type": "code",
   "execution_count": null,
   "id": "30fd14c5",
   "metadata": {},
   "outputs": [],
   "source": [
    "n = int(input(\"Enter a number: \"))\n",
    "temp = n\n",
    "reverse = 0\n",
    "while temp > 0:\n",
    "    digit = temp % 10\n",
    "    reverse = reverse * 10 + digit\n",
    "    temp = temp // 10\n",
    "if n == reverse:\n",
    "    print(n, \"is a palindrome\")\n",
    "else:\n",
    "    print(n, \"is not a palindrome\")"
   ]
  },
  {
   "cell_type": "markdown",
   "id": "27e75b2d",
   "metadata": {},
   "source": [
    "## Que.11 Write a program to find factors of a number"
   ]
  },
  {
   "cell_type": "code",
   "execution_count": null,
   "id": "45b9d5f9",
   "metadata": {},
   "outputs": [],
   "source": [
    "num=int(input(\"Enter the number.: \"))\n",
    "print(\"Factors of given number is.  \",num)\n",
    "for i in range(1,num+1):\n",
    "    if num % i ==0:\n",
    "        print(i,end=\",\")"
   ]
  },
  {
   "cell_type": "markdown",
   "id": "fbe7b1ad",
   "metadata": {},
   "source": [
    "## Que.12 Write a program to print the reverse of a number\n"
   ]
  },
  {
   "cell_type": "code",
   "execution_count": null,
   "id": "d7c7f5ee",
   "metadata": {},
   "outputs": [],
   "source": [
    "n = int(input(\"Enter a number: \"))\n",
    "reverse = 0\n",
    "while n > 0:\n",
    "    digit = n % 10\n",
    "    reverse = reverse * 10 + digit\n",
    "    n = n // 10\n",
    "print(\"The reverse of  is \", reverse)"
   ]
  },
  {
   "cell_type": "markdown",
   "id": "36a0ef8a",
   "metadata": {},
   "source": [
    "## Que.13 Write a program to print the sum of reverse of a number.\n"
   ]
  },
  {
   "cell_type": "code",
   "execution_count": null,
   "id": "7d6864fe",
   "metadata": {},
   "outputs": [],
   "source": [
    "i = int(input(\"Enter a number.:\"))\n",
    "rev = 0\n",
    "x = i\n",
    "while i > 0:\n",
    "    rev = (rev*10) + (i%10)  \n",
    "    i= i//10                  \n",
    "print(\"Reverse of a given number is\",rev)\n",
    "\n",
    "sum = x + rev\n",
    "\n",
    "print(\"The sum of a reverse of a number is\",sum)"
   ]
  },
  {
   "cell_type": "markdown",
   "id": "fa361caf",
   "metadata": {},
   "source": [
    "## Que. 14 Write a program to check whether a given number is prime or not."
   ]
  },
  {
   "cell_type": "code",
   "execution_count": null,
   "id": "20152a52",
   "metadata": {},
   "outputs": [],
   "source": [
    "n = int(input(\"Enter a number: \"))\n",
    "if n > 1:\n",
    "    for i in range(2, int(n/2) + 1):\n",
    "        if n % i == 0:\n",
    "            print(n, \"is not a prime number\")\n",
    "            break\n",
    "    else:\n",
    "        print(n, \"is a prime number\")\n",
    "else:\n",
    "    print(n, \"is not a prime number\")"
   ]
  },
  {
   "cell_type": "markdown",
   "id": "f002d9fc",
   "metadata": {},
   "source": [
    "## Que15. Write a program to print prime number between 1 to 100"
   ]
  },
  {
   "cell_type": "code",
   "execution_count": null,
   "id": "5ca16a4c",
   "metadata": {},
   "outputs": [],
   "source": [
    "def is_prime(n):\n",
    "    if n <= 1:\n",
    "        return False\n",
    "    for i in range(2, int(n**0.5) + 1):\n",
    "        if n % i == 0:\n",
    "            return False\n",
    "    return True\n",
    "\n",
    "# loop through all numbers from 1 to 100 and print the prime ones\n",
    "for i in range(1, 101):\n",
    "    if is_prime(i):\n",
    "        print(i ,end=\" \")\n",
    "\n"
   ]
  },
  {
   "cell_type": "markdown",
   "id": "bf73df23",
   "metadata": {},
   "source": [
    "## Que.16 Write a program to print number in reverse order entered by the user"
   ]
  },
  {
   "cell_type": "code",
   "execution_count": null,
   "id": "5e076b0a",
   "metadata": {},
   "outputs": [],
   "source": [
    "i = int(input(\"Enter a number.:\"))\n",
    "rev = 0\n",
    "\n",
    "while i > 0:\n",
    "    rev = (rev*10) + (i%10)   # rev = (0*10) + (287%10) == (0 + 7) ==  7\n",
    "    i= i//10                  # i = 287/10 = 28.7 and using // it ignores the decimal part that's why i = 28\n",
    "print(\"Reverse of a given number is\",rev)"
   ]
  },
  {
   "cell_type": "markdown",
   "id": "9b654ede",
   "metadata": {},
   "source": [
    "## Que17. Write a program to print the cube of all the numbers from 1 to the given number"
   ]
  },
  {
   "cell_type": "code",
   "execution_count": null,
   "id": "b11f593a",
   "metadata": {},
   "outputs": [],
   "source": [
    "n = int(input(\"Enter a number: \"))\n",
    "print(\"Cubes of numbers from 1 to\", n)\n",
    "for i in range(1, n+1):\n",
    "    cube = i**3\n",
    "    print(i, \":\", cube)"
   ]
  },
  {
   "cell_type": "markdown",
   "id": "ba22b932",
   "metadata": {},
   "source": [
    "## Que18. Write a program to count the total numbers of digits in a number"
   ]
  },
  {
   "cell_type": "code",
   "execution_count": null,
   "id": "a65cb0e9",
   "metadata": {},
   "outputs": [],
   "source": [
    "num = int(input(\"Enter a number: \"))\n",
    "count = 0\n",
    "while num != 0:\n",
    "    count += 1\n",
    "    num //= 10\n",
    "print(\"Total number of digits:\", count)"
   ]
  },
  {
   "cell_type": "markdown",
   "id": "aac696a8",
   "metadata": {},
   "source": [
    "## Que19. Write a program to print Fibonacci series"
   ]
  },
  {
   "cell_type": "code",
   "execution_count": null,
   "id": "190af0be",
   "metadata": {},
   "outputs": [],
   "source": [
    "n = int(input(\"Enter the number of terms: \"))\n",
    "a, b = 0, 1\n",
    "print(\"Fibonacci series:\")\n",
    "for i in range(n):\n",
    "    print(a, end=\" \")\n",
    "    a, b = b, a+b"
   ]
  },
  {
   "cell_type": "markdown",
   "id": "81a4698e",
   "metadata": {},
   "source": [
    "## Que20. Write a program to check whether a given number is Armstrong number or not\n"
   ]
  },
  {
   "cell_type": "code",
   "execution_count": null,
   "id": "3c89fa1c",
   "metadata": {},
   "outputs": [],
   "source": [
    "num = int(input(\"Enter a number: \"))\n",
    "sum = 0\n",
    "count = 0\n",
    "temp = num\n",
    "while temp > 0:\n",
    "    count += 1\n",
    "    temp //= 10\n",
    "temp = num\n",
    "while temp > 0:\n",
    "    digit = temp % 10\n",
    "    sum += digit ** count\n",
    "    temp //= 10\n",
    "if num == sum:\n",
    "    print(num, \"is an Armstrong number\")\n",
    "else:\n",
    "    print(num, \"is not an Armstrong number\")"
   ]
  },
  {
   "cell_type": "markdown",
   "id": "dc91a18a",
   "metadata": {},
   "source": [
    "## Que21. Write a program to check whether a given number is strong number or not"
   ]
  },
  {
   "cell_type": "code",
   "execution_count": null,
   "id": "c8a7b96d",
   "metadata": {},
   "outputs": [],
   "source": [
    "num = int(input(\"Enter a number: \"))\n",
    "temp = num\n",
    "sum = 0\n",
    "while temp > 0:\n",
    "    digit = temp % 10\n",
    "    fact = 1\n",
    "    for i in range(1, digit + 1):\n",
    "        fact *= i\n",
    "    sum += fact\n",
    "    temp //= 10\n",
    "\n",
    "# check if the input number is a Strong number or not\n",
    "if num == sum:\n",
    "    print(num, \"is a Strong number\")\n",
    "else:\n",
    "    print(num, \"is not a Strong number\")"
   ]
  },
  {
   "cell_type": "markdown",
   "id": "2532c475",
   "metadata": {},
   "source": [
    "## Que22. Write a program to check whether a given number is perfect number or not"
   ]
  },
  {
   "cell_type": "code",
   "execution_count": null,
   "id": "217ca5b8",
   "metadata": {},
   "outputs": [],
   "source": [
    "num = int(input(\"Enter a number: \"))\n",
    "sum = 0\n",
    "for i in range(1, num):\n",
    "    if num % i == 0:\n",
    "        sum += i\n",
    "if num == sum:\n",
    "    print(num, \"is a Perfect number\")\n",
    "else:\n",
    "    print(num, \"is not a Perfect number\")"
   ]
  },
  {
   "cell_type": "markdown",
   "id": "0a271542",
   "metadata": {},
   "source": [
    "## Que 23. Write a program to find those numbers which are divisible by 7 and multiple of 5, between 1000 to 2000"
   ]
  },
  {
   "cell_type": "code",
   "execution_count": null,
   "id": "595e3449",
   "metadata": {},
   "outputs": [],
   "source": [
    "for i in range(1000, 2001):\n",
    "    if i % 7 == 0 and i % 5 == 0:\n",
    "        print(i, end=\" , \")"
   ]
  },
  {
   "cell_type": "markdown",
   "id": "dbc14687",
   "metadata": {},
   "source": [
    "## Que 24. Write a program to print the following Number patterns using a loop"
   ]
  },
  {
   "cell_type": "code",
   "execution_count": null,
   "id": "c5f298e9",
   "metadata": {},
   "outputs": [],
   "source": [
    "## a. Number Pattern 1\n",
    "\n",
    "n=int(input(\"Enter number rows needed.:  \"))\n",
    "for i in range(n):\n",
    "    for j in range(i+1):\n",
    "        print(j+1,end=\" \")\n",
    "    print()"
   ]
  },
  {
   "cell_type": "code",
   "execution_count": null,
   "id": "164f235d",
   "metadata": {},
   "outputs": [],
   "source": [
    "## b. Number Pattern 2\n",
    "n=int(input(\"enter number rows needed. :  \"))\n",
    "for i in range(n):\n",
    "    for j in range(i,-1,-1):\n",
    "        print(j+1,end= \" \")\n",
    "    print()"
   ]
  },
  {
   "cell_type": "code",
   "execution_count": null,
   "id": "77615cfe",
   "metadata": {},
   "outputs": [],
   "source": [
    "## c. Number Pattern 3\n",
    "n=int(input('Enter number rows needed.: '))\n",
    "for i in range(n):\n",
    "    for j in range(n-i):\n",
    "        print(n-j,end=\" \")\n",
    "    print()"
   ]
  },
  {
   "cell_type": "code",
   "execution_count": null,
   "id": "073f5f64",
   "metadata": {},
   "outputs": [],
   "source": [
    "## d. Number Pattern 4\n",
    "n=int(input('Enter number rows needed.: '))\n",
    "for i in range(n,0,-1):\n",
    "    for j in range(1,i+1):\n",
    "        print(j,end=\" \")\n",
    "    print()"
   ]
  },
  {
   "cell_type": "code",
   "execution_count": null,
   "id": "5a052ef5",
   "metadata": {},
   "outputs": [],
   "source": [
    "## e. Number Pattern 5\n",
    "n = int(input(\"Enter the Numbers of rows.:\")) \n",
    "for i in range(n,0,-1):\n",
    "    for j in range(i,0,-1):\n",
    "        print(j, end=\" \")\n",
    "    print()"
   ]
  },
  {
   "cell_type": "markdown",
   "id": "a46a2a75",
   "metadata": {},
   "source": [
    "## Que 25. Write a program to print the following star patterns using a loop"
   ]
  },
  {
   "cell_type": "code",
   "execution_count": null,
   "id": "28a1816d",
   "metadata": {},
   "outputs": [],
   "source": [
    "## a. Right Half-Pyramid Pattern Program\n",
    "num = int(input(\"Enter the Numbers of rows.:\")) # Ask user input for rows.\n",
    "\n",
    "for i in range(num):\n",
    "    for j in range(num-1-1):\n",
    "        print(\" \",end=\" \")\n",
    "    for j in range(i+1):\n",
    "        print(\"*\",end=\" \")\n",
    "    print()"
   ]
  },
  {
   "cell_type": "code",
   "execution_count": null,
   "id": "36fece22",
   "metadata": {},
   "outputs": [],
   "source": [
    "## b. Ractangle Shape\n",
    "r = int(input(\"Enter the Numbers of Rows.:\"))\n",
    "c = int(input(\"Enter the Number of Columns.:\"))\n",
    "\n",
    "for i in range(r):\n",
    "    for j in range(c):\n",
    "        print(\"*\",end = \" \")\n",
    "    print()"
   ]
  },
  {
   "cell_type": "code",
   "execution_count": null,
   "id": "0d1bcbfb",
   "metadata": {},
   "outputs": [],
   "source": [
    "## c.Downward Half-Pyramid Pattern Program\n",
    "num = int(input(\"Enter the Numbers of rows.:\")) # Ask user input for rows.\n",
    "\n",
    "for i in range(num,0,-1): # 'i' indicates the Rows. \n",
    "    for j in range(0,i): # 'j' indicates the Columns.\n",
    "        print(\"*\",end = \" \") # This will print * and end is used for not adding a new line.\n",
    "    print()"
   ]
  },
  {
   "cell_type": "code",
   "execution_count": null,
   "id": "08ed522f",
   "metadata": {},
   "outputs": [],
   "source": [
    "## d.Downward Half-Pyramid Pattern Program\n",
    "\n",
    "num = int(input(\"Enter the Numbers of rows.:\")) # Ask user input for rows.\n",
    "\n",
    "for i in range(1,num+1): # 'i' indicates the Rows. \n",
    "    for j in range(1,num+1): # 'j' indicates the Columns.\n",
    "        if j >= i:\n",
    "            print(\"*\",end = \" \") # To print \"*\"\n",
    "        else:\n",
    "            print(\" \",end = \" \") # To Give a space.\n",
    "    print()"
   ]
  },
  {
   "cell_type": "code",
   "execution_count": 2,
   "id": "d931cfa1",
   "metadata": {},
   "outputs": [
    {
     "name": "stdout",
     "output_type": "stream",
     "text": [
      "Enter the Numbers of rows.:5\n",
      "        * \n",
      "      * * \n",
      "    * * * \n",
      "  * * * * \n",
      "* * * * * \n"
     ]
    }
   ],
   "source": [
    "## e.Left Half-Pyramid Pattern Program\n",
    "\n",
    "num = int(input(\"Enter the Numbers of rows.:\")) # Ask user input for rows.\n",
    "\n",
    "for i in range(1,num+1):\n",
    "    for j in range(1,num+1):\n",
    "        if j<=num-i:\n",
    "            print(\" \", end=\" \")\n",
    "        else:\n",
    "            print(\"*\", end=\" \")\n",
    "    print()"
   ]
  },
  {
   "cell_type": "markdown",
   "id": "5f015fa6",
   "metadata": {},
   "source": [
    "## Que 27. Write a program to print the following alphabet patterns using a loop"
   ]
  },
  {
   "cell_type": "code",
   "execution_count": 3,
   "id": "f27dcb47",
   "metadata": {},
   "outputs": [
    {
     "name": "stdout",
     "output_type": "stream",
     "text": [
      "Enter the Numbers of rows.:5\n",
      "A \n",
      "A B \n",
      "A B C \n",
      "A B C D \n",
      "A B C D E \n"
     ]
    }
   ],
   "source": [
    "n = int(input(\"Enter the Numbers of rows.:\")) # Ask user input for rows.\n",
    "for i in range(1, n+1):\n",
    "    for j in range(i):\n",
    "        print(chr(65+j), end=\" \")\n",
    "    print()"
   ]
  },
  {
   "cell_type": "code",
   "execution_count": 4,
   "id": "1c414589",
   "metadata": {},
   "outputs": [
    {
     "name": "stdout",
     "output_type": "stream",
     "text": [
      "Enter the Numbers of rows.:6\n",
      "A \n",
      "B B \n",
      "C C C \n",
      "D D D D \n",
      "E E E E E \n",
      "F F F F F F \n",
      "G G G G G G G \n"
     ]
    }
   ],
   "source": [
    "## b.Alphabet pattern 2\n",
    "\n",
    "n = int(input(\"Enter the Numbers of rows.:\")) # Ask user input for rows.\n",
    "for i in range(0, n+1):\n",
    "    for j in range(i+1):\n",
    "        print(chr(65+i), end=\" \")\n",
    "    print()"
   ]
  },
  {
   "cell_type": "code",
   "execution_count": 5,
   "id": "b01ae9b3",
   "metadata": {},
   "outputs": [
    {
     "name": "stdout",
     "output_type": "stream",
     "text": [
      "Enter the Numbers of rows.:7\n",
      "A B C D E F G \n",
      "A B C D E F \n",
      "A B C D E \n",
      "A B C D \n",
      "A B C \n",
      "A B \n",
      "A \n"
     ]
    }
   ],
   "source": [
    "n = int(input(\"Enter the Numbers of rows.:\")) # Ask user input for rows.\n",
    "for i in range(n, 0, -1):\n",
    "    for j in range(i):\n",
    "        print(chr(65+j), end=\" \")\n",
    "    print()"
   ]
  },
  {
   "cell_type": "code",
   "execution_count": 6,
   "id": "b1089216",
   "metadata": {},
   "outputs": [
    {
     "name": "stdout",
     "output_type": "stream",
     "text": [
      "Enter the Numbers of rows.:8\n",
      "H H H H H H H H \n",
      "G G G G G G G \n",
      "F F F F F F \n",
      "E E E E E \n",
      "D D D D \n",
      "C C C \n",
      "B B \n",
      "A \n"
     ]
    }
   ],
   "source": [
    "n = int(input(\"Enter the Numbers of rows.:\")) # Ask user input for rows.\n",
    "for i in range(n, 0, -1):\n",
    "    for j in range(i):\n",
    "        print(chr(64+i), end=\" \")\n",
    "    print()"
   ]
  },
  {
   "cell_type": "code",
   "execution_count": null,
   "id": "7f989879",
   "metadata": {},
   "outputs": [],
   "source": []
  }
 ],
 "metadata": {
  "kernelspec": {
   "display_name": "Python 3 (ipykernel)",
   "language": "python",
   "name": "python3"
  },
  "language_info": {
   "codemirror_mode": {
    "name": "ipython",
    "version": 3
   },
   "file_extension": ".py",
   "mimetype": "text/x-python",
   "name": "python",
   "nbconvert_exporter": "python",
   "pygments_lexer": "ipython3",
   "version": "3.9.7"
  }
 },
 "nbformat": 4,
 "nbformat_minor": 5
}
