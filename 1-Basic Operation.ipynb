{
 "cells": [
  {
   "cell_type": "markdown",
   "id": "0c560fac",
   "metadata": {},
   "source": [
    "## Que1. Print your introduction."
   ]
  },
  {
   "cell_type": "code",
   "execution_count": 3,
   "id": "e24991fc",
   "metadata": {},
   "outputs": [],
   "source": [
    "introducation =(\"My name is janavi badgujar,I'm from Maharashtra,I am pursing   b.tech from rcpit ,dhule \")"
   ]
  },
  {
   "cell_type": "code",
   "execution_count": 5,
   "id": "3fec5bb8",
   "metadata": {},
   "outputs": [
    {
     "name": "stdout",
     "output_type": "stream",
     "text": [
      "My name is janavi badgujar,I'm from Maharashtra,I am pursing  bachelor's of enginearing from rcpit\n"
     ]
    }
   ],
   "source": [
    "print(introducation)"
   ]
  },
  {
   "cell_type": "markdown",
   "id": "088fa469",
   "metadata": {},
   "source": [
    "## Que2. Addition, Subtraction, Multiplication, Division, Modulus, Exponent"
   ]
  },
  {
   "cell_type": "code",
   "execution_count": 6,
   "id": "d832564f",
   "metadata": {},
   "outputs": [
    {
     "name": "stdout",
     "output_type": "stream",
     "text": [
      "Enter the a value.:2\n",
      "Enter the b value.:3\n",
      "addition of given value is  5\n"
     ]
    }
   ],
   "source": [
    "## ADDITION\n",
    "\n",
    "a = int(input(\"Enter the a value.:\"))\n",
    "b= int(input(\"Enter the b value.:\"))\n",
    "\n",
    "add = a+b\n",
    "\n",
    "print(\"addition of given value is \",add)"
   ]
  },
  {
   "cell_type": "code",
   "execution_count": 7,
   "id": "e18ae71f",
   "metadata": {},
   "outputs": [
    {
     "name": "stdout",
     "output_type": "stream",
     "text": [
      "Enter the a value.:8\n",
      "Enter the b value.:4\n",
      "sub of given value is  4\n"
     ]
    }
   ],
   "source": [
    "## SUBTRACTION\n",
    "\n",
    "a = int(input(\"Enter the a value.:\"))\n",
    "b= int(input(\"Enter the b value.:\"))\n",
    "\n",
    "sub = a-b\n",
    "\n",
    "print(\"sub of given value is \",sub)"
   ]
  },
  {
   "cell_type": "code",
   "execution_count": 8,
   "id": "43982cd8",
   "metadata": {},
   "outputs": [
    {
     "name": "stdout",
     "output_type": "stream",
     "text": [
      "Enter the a value.:5\n",
      "Enter the b value.:5\n",
      "Multiplication of given value is 25\n"
     ]
    }
   ],
   "source": [
    "## MULTIPLICATION\n",
    "\n",
    "a = int(input(\"Enter the a value.:\"))\n",
    "b = int(input(\"Enter the b value.:\"))\n",
    "\n",
    "Multiplication = a*b\n",
    "\n",
    "print(\"Multiplication of given value is\",Multiplication)"
   ]
  },
  {
   "cell_type": "code",
   "execution_count": 9,
   "id": "9b6842f9",
   "metadata": {},
   "outputs": [
    {
     "name": "stdout",
     "output_type": "stream",
     "text": [
      "Enter the a Value.:10\n",
      "Enter the b Value.:2\n",
      "Division of given value 5.0\n"
     ]
    }
   ],
   "source": [
    "## DIVISION\n",
    "\n",
    "a = int(input(\"Enter the a Value.:\"))\n",
    "b = int(input(\"Enter the b Value.:\"))\n",
    "\n",
    "Div = a/b\n",
    "\n",
    "print(\"Division of given value\",Div)"
   ]
  },
  {
   "cell_type": "code",
   "execution_count": 10,
   "id": "f775966c",
   "metadata": {},
   "outputs": [
    {
     "name": "stdout",
     "output_type": "stream",
     "text": [
      "Enter the a Value.:25\n",
      "Enter the b Value.:5\n",
      "Modulus of given value 0\n"
     ]
    }
   ],
   "source": [
    "##MODULUS\n",
    "\n",
    "a = int(input(\"Enter the a Value.:\"))\n",
    "b = int(input(\"Enter the b Value.:\"))\n",
    "\n",
    "Modulus = a%b\n",
    "print(\"Modulus of given value\",Modulus)"
   ]
  },
  {
   "cell_type": "code",
   "execution_count": 11,
   "id": "30b904c7",
   "metadata": {},
   "outputs": [
    {
     "name": "stdout",
     "output_type": "stream",
     "text": [
      "Enter the a value.:2\n",
      "Enter the b value.:5\n",
      "Exp of given value is  32\n"
     ]
    }
   ],
   "source": [
    "## EXPONENT \n",
    "\n",
    "a = int(input(\"Enter the a value.:\"))\n",
    "b= int(input(\"Enter the b value.:\"))\n",
    "\n",
    "exp= a**b\n",
    "\n",
    "print(\"Exp of given value is \",exp)"
   ]
  },
  {
   "cell_type": "markdown",
   "id": "0f01f098",
   "metadata": {},
   "source": [
    "## Que3. Write a program to swap two numbers. (use of 3rd variable)"
   ]
  },
  {
   "cell_type": "code",
   "execution_count": 12,
   "id": "d3a4ad45",
   "metadata": {},
   "outputs": [
    {
     "name": "stdout",
     "output_type": "stream",
     "text": [
      "Enter number:20\n",
      "Enter number:40\n",
      "a value before swap 20\n",
      "b value before swap 40\n",
      "a value after swap 40\n",
      "b value after swap 20\n"
     ]
    }
   ],
   "source": [
    "a = int(input(\"Enter number:\"))\n",
    "b = int(input(\"Enter number:\"))\n",
    "\n",
    "print(\"a value before swap\",a)\n",
    "print(\"b value before swap\",b)\n",
    "\n",
    "Temp = a\n",
    "a = b\n",
    "b = Temp\n",
    "\n",
    "print(\"a value after swap\",a)\n",
    "print(\"b value after swap\",b)"
   ]
  },
  {
   "cell_type": "markdown",
   "id": "72146e62",
   "metadata": {},
   "source": [
    "## Que 4. Write a program to swap two numbers w/o using 3rd variable."
   ]
  },
  {
   "cell_type": "code",
   "execution_count": 13,
   "id": "a7d75c34",
   "metadata": {},
   "outputs": [
    {
     "name": "stdout",
     "output_type": "stream",
     "text": [
      "Enter number:10\n",
      "Enter number:20\n",
      "a value before swap 10\n",
      "b value before swap 20\n",
      "a value after swap 20\n",
      "b value after swap 10\n"
     ]
    }
   ],
   "source": [
    "a = int(input(\"Enter number:\"))\n",
    "b = int(input(\"Enter number:\"))\n",
    "\n",
    "print(\"a value before swap\",a)\n",
    "print(\"b value before swap\",b)\n",
    "\n",
    "a,b =b,a\n",
    "\n",
    "print(\"a value after swap\",a)\n",
    "print(\"b value after swap\",b)"
   ]
  },
  {
   "cell_type": "markdown",
   "id": "65c3d19a",
   "metadata": {},
   "source": [
    "## Que 5. Write a program to compute simple interest."
   ]
  },
  {
   "cell_type": "code",
   "execution_count": 15,
   "id": "8aadb8dc",
   "metadata": {},
   "outputs": [
    {
     "name": "stdout",
     "output_type": "stream",
     "text": [
      "Enter the principal Amount.:2500\n",
      "Enter the rate.:5\n",
      "Enter the rate.:5\n",
      "Simple interest is 625.0\n"
     ]
    }
   ],
   "source": [
    "P=int(input(\"Enter the principal Amount.:\"))\n",
    "R=int(input(\"Enter the rate.:\"))\n",
    "T=int(input(\"Enter the rate.:\"))\n",
    "\n",
    "si =(P*R*T)/100\n",
    "print(\"Simple interest is\",si)"
   ]
  },
  {
   "cell_type": "markdown",
   "id": "6fdf70c4",
   "metadata": {},
   "source": [
    "## Que 6. Write a program to find average of 5 numbers by user input\n"
   ]
  },
  {
   "cell_type": "code",
   "execution_count": 16,
   "id": "48ee23d4",
   "metadata": {},
   "outputs": [
    {
     "name": "stdout",
     "output_type": "stream",
     "text": [
      "Enter the number1.:2\n",
      "Enter the number2.:4\n",
      "Enter the number3.:6\n",
      "Enter the Number4.:6\n",
      "Enter the number5.:8\n",
      "Average of given inputs 5.2\n"
     ]
    }
   ],
   "source": [
    "Number1=int(input(\"Enter the number1.:\"))\n",
    "Number2=int(input(\"Enter the number2.:\"))\n",
    "Number3=int(input(\"Enter the number3.:\"))\n",
    "Number4=int(input(\"Enter the Number4.:\"))\n",
    "Number5=int(input(\"Enter the number5.:\"))\n",
    "\n",
    "ava=(Number1+Number2+Number3+Number4+Number5)/5\n",
    "\n",
    "print(\"Average of given inputs\",ava)"
   ]
  },
  {
   "cell_type": "markdown",
   "id": "88867bb5",
   "metadata": {},
   "source": [
    "## Que 7. Write a program to calculate the discriminant of the quadratic equation."
   ]
  },
  {
   "cell_type": "code",
   "execution_count": 17,
   "id": "c14bb93a",
   "metadata": {},
   "outputs": [
    {
     "name": "stdout",
     "output_type": "stream",
     "text": [
      "enter a value12\n",
      "enter b value14\n",
      "enter c value16\n",
      "the discriminant of the quadratic equation is -572\n"
     ]
    }
   ],
   "source": [
    "a = int(input(\"enter a value\"))\n",
    "b = int(input(\"enter b value\"))\n",
    "c = int(input(\"enter c value\"))\n",
    "\n",
    "dis = (b**2) - (4*a*c)\n",
    "\n",
    "print(\"the discriminant of the quadratic equation is\",dis)"
   ]
  },
  {
   "cell_type": "markdown",
   "id": "97aa30a1",
   "metadata": {},
   "source": [
    "## Que 8.Write a program to calculate the areas of Rectangle, Square, Triangle and Circle"
   ]
  },
  {
   "cell_type": "code",
   "execution_count": 18,
   "id": "ae875309",
   "metadata": {},
   "outputs": [
    {
     "name": "stdout",
     "output_type": "stream",
     "text": [
      "Enter the l of Rectangle.:8\n",
      "Enter the w of Rectangle.:9\n",
      "the Area of Rectangle is 72\n"
     ]
    }
   ],
   "source": [
    "##1 Rectanle\n",
    "\n",
    "l=int(input(\"Enter the l of Rectangle.:\"))\n",
    "w=int(input(\"Enter the w of Rectangle.:\"))\n",
    "\n",
    "Rec =l*w\n",
    "\n",
    "print(\"the Area of Rectangle is\",Rec)"
   ]
  },
  {
   "cell_type": "code",
   "execution_count": 19,
   "id": "82e365ff",
   "metadata": {},
   "outputs": [
    {
     "name": "stdout",
     "output_type": "stream",
     "text": [
      "Enter the side of square.:5\n",
      "The area of square is 25\n"
     ]
    }
   ],
   "source": [
    "##2 Square\n",
    "\n",
    "s=int(input(\"Enter the side of square.:\"))\n",
    "square =s**2\n",
    "print(\"The area of square is\",square)"
   ]
  },
  {
   "cell_type": "code",
   "execution_count": 20,
   "id": "a305f029",
   "metadata": {},
   "outputs": [
    {
     "name": "stdout",
     "output_type": "stream",
     "text": [
      "Enter the base of triangle.:4\n",
      "Enter the height of triangle.5\n",
      "the area of Triangle is 10.0\n"
     ]
    }
   ],
   "source": [
    "##3 Triangle\n",
    "Base=int(input(\"Enter the base of triangle.:\"))\n",
    "Height=int(input(\"Enter the height of triangle.\"))\n",
    "triangle=(Base*Height)/2\n",
    "print(\"the area of Triangle is\",triangle)"
   ]
  },
  {
   "cell_type": "code",
   "execution_count": 21,
   "id": "1184ae75",
   "metadata": {},
   "outputs": [
    {
     "name": "stdout",
     "output_type": "stream",
     "text": [
      "Enter the radius of Circle8\n",
      "The area of circle is 200.96\n"
     ]
    }
   ],
   "source": [
    "##4 Circle\n",
    "\n",
    "r=int(input(\"Enter the radius of Circle\"))\n",
    "pi=3.14\n",
    "circle =pi*r*r\n",
    "print(\"The area of circle is\",circle)"
   ]
  },
  {
   "cell_type": "markdown",
   "id": "8c25ef1d",
   "metadata": {},
   "source": [
    "## Que.09. Write a program to calculate net salary of an employee whose basic salary is entered by the user, DA is 5% of basic salary HRA is 7% of basic salary and PF is 3% of basic salary."
   ]
  },
  {
   "cell_type": "code",
   "execution_count": 22,
   "id": "b1fabfce",
   "metadata": {},
   "outputs": [
    {
     "name": "stdout",
     "output_type": "stream",
     "text": [
      "Enter Basic salary.:35000\n",
      "your Net salary is 38150.0\n"
     ]
    }
   ],
   "source": [
    "basic_salary = int(input(\"Enter Basic salary.:\"))\n",
    "da = basic_salary * 0.05\n",
    "hra = basic_salary * 0.07\n",
    "pf = basic_salary * 0.03\n",
    "net_salary = (basic_salary + da + hra) - (pf)\n",
    "print(\"your Net salary is\", net_salary)"
   ]
  },
  {
   "cell_type": "markdown",
   "id": "274428fd",
   "metadata": {},
   "source": [
    "## Que 10. Write a program to calculate power of number."
   ]
  },
  {
   "cell_type": "code",
   "execution_count": 23,
   "id": "d0e99a1a",
   "metadata": {},
   "outputs": [
    {
     "name": "stdout",
     "output_type": "stream",
     "text": [
      "Enter the base: 5\n",
      "Enter the exponent: 5\n",
      "5.0 to the power of 5.0 is 3125.0\n"
     ]
    }
   ],
   "source": [
    "base = float(input(\"Enter the base: \"))\n",
    "exponent = float(input(\"Enter the exponent: \"))\n",
    "result = pow(base, exponent)\n",
    "print(f\"{base} to the power of {exponent} is {result}\")"
   ]
  },
  {
   "cell_type": "markdown",
   "id": "2ac8f318",
   "metadata": {},
   "source": [
    "## Que 11. Write a program to get the python version you are using."
   ]
  },
  {
   "cell_type": "code",
   "execution_count": 24,
   "id": "e960d11e",
   "metadata": {},
   "outputs": [],
   "source": [
    "from platform import python_version"
   ]
  },
  {
   "cell_type": "code",
   "execution_count": 25,
   "id": "384c2ff0",
   "metadata": {},
   "outputs": [
    {
     "data": {
      "text/plain": [
       "'3.9.7'"
      ]
     },
     "execution_count": 25,
     "metadata": {},
     "output_type": "execute_result"
    }
   ],
   "source": [
    "python_version()\n"
   ]
  },
  {
   "cell_type": "code",
   "execution_count": 26,
   "id": "b6c26346",
   "metadata": {},
   "outputs": [
    {
     "data": {
      "text/plain": [
       "'3.9.7'"
      ]
     },
     "execution_count": 26,
     "metadata": {},
     "output_type": "execute_result"
    }
   ],
   "source": [
    "python_version()"
   ]
  },
  {
   "cell_type": "code",
   "execution_count": null,
   "id": "3956a7a7",
   "metadata": {},
   "outputs": [],
   "source": []
  }
 ],
 "metadata": {
  "kernelspec": {
   "display_name": "Python 3 (ipykernel)",
   "language": "python",
   "name": "python3"
  },
  "language_info": {
   "codemirror_mode": {
    "name": "ipython",
    "version": 3
   },
   "file_extension": ".py",
   "mimetype": "text/x-python",
   "name": "python",
   "nbconvert_exporter": "python",
   "pygments_lexer": "ipython3",
   "version": "3.9.7"
  }
 },
 "nbformat": 4,
 "nbformat_minor": 5
}
