{
 "cells": [
  {
   "cell_type": "markdown",
   "id": "39d88a46",
   "metadata": {},
   "source": [
    "## 1. Create a class called Rectangle with attributes such as width and height.Define methods to calculate the area and perimeter of the rectangle."
   ]
  },
  {
   "cell_type": "code",
   "execution_count": 1,
   "id": "24d83dc9",
   "metadata": {},
   "outputs": [],
   "source": [
    "class Rectangle: ## Class Creation\n",
    "    def __init__(self, width, height): # Attributes Allocation\n",
    "        self.width = width\n",
    "        self.height = height\n",
    "        \n",
    "    def calculate_area(self): # Area Calculation\n",
    "        print(f'1. The Area of Rectangle for width({self.width}) and height({self.height}) is ',self.width*self.height)\n",
    "        \n",
    "    def calculate_perimeter(self): # Perimeter Calculation\n",
    "        print(f'2. The Perimeter of Rectangle for width({self.width}) and height({self.height}) is ',2*(self.width+self.height))"
   ]
  },
  {
   "cell_type": "code",
   "execution_count": 2,
   "id": "6f5d6d9f",
   "metadata": {},
   "outputs": [],
   "source": [
    "r = Rectangle(3,4) # Object Creation"
   ]
  },
  {
   "cell_type": "code",
   "execution_count": 3,
   "id": "4ceebd36",
   "metadata": {},
   "outputs": [
    {
     "name": "stdout",
     "output_type": "stream",
     "text": [
      "1. The Area of Rectangle for width(3) and height(4) is  12\n",
      "2. The Perimeter of Rectangle for width(3) and height(4) is  14\n"
     ]
    }
   ],
   "source": [
    "## Calling Methods\n",
    "r.calculate_area() \n",
    "r.calculate_perimeter()"
   ]
  },
  {
   "cell_type": "markdown",
   "id": "cde0ce66",
   "metadata": {},
   "source": [
    "## 2. Create a class called Circle with attributes such as radius. Define methods to calculate the area and circumference of the circle."
   ]
  },
  {
   "cell_type": "code",
   "execution_count": 5,
   "id": "5eea6b82",
   "metadata": {},
   "outputs": [],
   "source": [
    "import math\n",
    "\n",
    "class Circle:  ## Class Creation\n",
    "    def __init__(self,radius): # Attributes Allocation\n",
    "        self.radius = radius\n",
    "        \n",
    "    def calculate_area(self): # Area Calculation\n",
    "        print(f'1. The Area of Circle for radius({self.radius}) is ',math.pi*self.radius*self.radius)\n",
    "        \n",
    "    def calculate_circumference(self): # Circumference Calculation\n",
    "        print(f'2. The Circumference of Circle for radius({self.radius}) is ',2*math.pi*self.radius)   "
   ]
  },
  {
   "cell_type": "code",
   "execution_count": 6,
   "id": "ccc56391",
   "metadata": {},
   "outputs": [],
   "source": [
    "c = Circle(10) # Object Creation"
   ]
  },
  {
   "cell_type": "code",
   "execution_count": 7,
   "id": "e4503db7",
   "metadata": {},
   "outputs": [
    {
     "name": "stdout",
     "output_type": "stream",
     "text": [
      "1. The Area of Circle for radius(10) is  314.1592653589793\n",
      "2. The Circumference of Circle for radius(10) is  62.83185307179586\n"
     ]
    }
   ],
   "source": [
    "## Calling Methods\n",
    "c.calculate_area()\n",
    "c.calculate_circumference()"
   ]
  },
  {
   "cell_type": "markdown",
   "id": "fbf56926",
   "metadata": {},
   "source": [
    "## 3. Create a class called BankAccount with attributes such as balance and interest_rate. Define methods to deposit, withdraw, and calculate interest on the balance."
   ]
  },
  {
   "cell_type": "code",
   "execution_count": 8,
   "id": "97834da2",
   "metadata": {},
   "outputs": [],
   "source": [
    "class BankAccount:  ## Class Creation\n",
    "    def __init__(self,balance,interest_rate): # Attributes Allocation\n",
    "        self.balance = balance\n",
    "        self.interest_rate = interest_rate\n",
    "        print(\"The deposit, withdraw, and interest on the balance are as followings:\\n \")\n",
    "        print(f\"1. The initial balance is {self.balance}.\")\n",
    "        \n",
    "    def deposit(self,deposit_amount): # Attributes Allocation\n",
    "        self.deposit_amount = deposit_amount\n",
    "        print(f'2. There is a deposit of {self.balance - self.deposit_amount} amount.')\n",
    "        \n",
    "    def withdraw(self,withdraw_amount): # Attributes Allocation\n",
    "        self.withdraw_amount = withdraw_amount\n",
    "        print(f'3. There is a withdraw of {self.withdraw_amount} amount.')\n",
    "        \n",
    "    def calculate_interest(self):\n",
    "        print(f\"4. The interest on the balance is {self.balance*self.interest_rate}.\")  "
   ]
  },
  {
   "cell_type": "code",
   "execution_count": 9,
   "id": "20dd5d2b",
   "metadata": {},
   "outputs": [
    {
     "name": "stdout",
     "output_type": "stream",
     "text": [
      "The deposit, withdraw, and interest on the balance are as followings:\n",
      " \n",
      "1. The initial balance is 1000.\n",
      "2. There is a deposit of 500 amount.\n",
      "3. There is a withdraw of 100 amount.\n",
      "4. The interest on the balance is 90.0.\n"
     ]
    }
   ],
   "source": [
    "# Object Creation\n",
    "ba = BankAccount(1000,0.09)\n",
    "## Calling Methods\n",
    "ba.deposit(500)\n",
    "ba.withdraw(100)\n",
    "ba.calculate_interest()"
   ]
  },
  {
   "cell_type": "markdown",
   "id": "71eb352b",
   "metadata": {},
   "source": [
    "## 4. Create a class called Person with attributes name ,age and gender .Include a method called Introduce that prints out a message introducing the person with their name, age and gender."
   ]
  },
  {
   "cell_type": "code",
   "execution_count": 10,
   "id": "0f9f1dbf",
   "metadata": {},
   "outputs": [],
   "source": [
    "class Person:  ## Class Creation\n",
    "    def __init__(self,name,age,gender): # Attributes Allocation\n",
    "        self.name = name\n",
    "        self.age = age\n",
    "        self.gender = gender\n",
    "        \n",
    "    def Introduce(self):\n",
    "        print('1. Name:', self.name)\n",
    "        print('2. Age:', self.age)\n",
    "        print('3. Gender:', self.gender)"
   ]
  },
  {
   "cell_type": "code",
   "execution_count": 11,
   "id": "9f5b6b70",
   "metadata": {},
   "outputs": [],
   "source": [
    "p = Person('Dhwani',26,'Female') # Object Creation"
   ]
  },
  {
   "cell_type": "code",
   "execution_count": 12,
   "id": "ebe5cc8f",
   "metadata": {},
   "outputs": [
    {
     "name": "stdout",
     "output_type": "stream",
     "text": [
      "1. Name: Dhwani\n",
      "2. Age: 26\n",
      "3. Gender: Female\n"
     ]
    }
   ],
   "source": [
    "p.Introduce() ## Calling Methods"
   ]
  },
  {
   "cell_type": "markdown",
   "id": "1f2d6c63",
   "metadata": {},
   "source": [
    "## 5. Create a class called Vehicle with attributes make, model and year. Include a method called start_engine that prints out a message indicating that engine has started."
   ]
  },
  {
   "cell_type": "code",
   "execution_count": 13,
   "id": "7fe987b6",
   "metadata": {},
   "outputs": [],
   "source": [
    "class Vehicle:  ## Class Creation\n",
    "    def __init__(self,make,model,year): # Attributes Allocation\n",
    "        self.make = make\n",
    "        self.model = model\n",
    "        self.year = year\n",
    "        \n",
    "    def start_engine(self):\n",
    "        print(\"The engine has started.\")\n",
    "        # or (Optional Statement)\n",
    "        print(f\"The engine is made by {self.make} and the model is {self.model} {self.year}.\")"
   ]
  },
  {
   "cell_type": "code",
   "execution_count": 14,
   "id": "c06a0c19",
   "metadata": {},
   "outputs": [
    {
     "name": "stdout",
     "output_type": "stream",
     "text": [
      "The engine has started.\n",
      "The engine is made by Toyota and the model is Corolla 2022.\n"
     ]
    }
   ],
   "source": [
    "car = Vehicle(\"Toyota\", \"Corolla\", 2022) # Object Creation\n",
    "car.start_engine() ## Calling Methods"
   ]
  },
  {
   "cell_type": "code",
   "execution_count": null,
   "id": "8506d872",
   "metadata": {},
   "outputs": [],
   "source": []
  }
 ],
 "metadata": {
  "kernelspec": {
   "display_name": "Python 3 (ipykernel)",
   "language": "python",
   "name": "python3"
  },
  "language_info": {
   "codemirror_mode": {
    "name": "ipython",
    "version": 3
   },
   "file_extension": ".py",
   "mimetype": "text/x-python",
   "name": "python",
   "nbconvert_exporter": "python",
   "pygments_lexer": "ipython3",
   "version": "3.9.7"
  }
 },
 "nbformat": 4,
 "nbformat_minor": 5
}
